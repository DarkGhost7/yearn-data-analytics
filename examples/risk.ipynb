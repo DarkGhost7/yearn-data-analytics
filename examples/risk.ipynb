{
 "cells": [
  {
   "cell_type": "markdown",
   "metadata": {},
   "source": [
    "# Risk Metrics\n",
    "\n",
    "*Work in Progress*"
   ]
  },
  {
   "cell_type": "markdown",
   "metadata": {},
   "source": [
    "This notebook aims to provide basic usage examples for describing the quantitative risk metrics of Yearn's products and some additional relevant information."
   ]
  },
  {
   "cell_type": "code",
   "execution_count": 1,
   "metadata": {},
   "outputs": [],
   "source": [
    "\"\"\"load dependencies and define constants\"\"\"\n",
    "import sys\n",
    "from pprint import pprint\n",
    "\n",
    "sys.path.append(\"..\")\n",
    "from yearn_data.yearn import Yearn"
   ]
  },
  {
   "cell_type": "code",
   "execution_count": 2,
   "metadata": {},
   "outputs": [
    {
     "name": "stdout",
     "output_type": "stream",
     "text": [
      "loaded metadata for 93 vaults (v2)\n"
     ]
    }
   ],
   "source": [
    "\"\"\"load v2 vaults from the yearn instance\"\"\"\n",
    "yearn = Yearn()\n",
    "vaults = yearn.vaults\n",
    "print(f\"loaded metadata for {len(vaults)} vaults (v2)\")"
   ]
  },
  {
   "cell_type": "code",
   "execution_count": 3,
   "metadata": {},
   "outputs": [
    {
     "name": "stdout",
     "output_type": "stream",
     "text": [
      "[<Vault name=yvCurve-renBTC 0.3.5>,\n",
      " <Vault name=yvDAI 0.3.0>,\n",
      " <Vault name=yvCurve-sBTC 0.3.5>,\n",
      " <Vault name=yvCurve-DOLA 0.4.3>,\n",
      " <Vault name=yvCurve-alETH 0.4.3>,\n",
      " <Vault name=yvCurve-sAave 0.3.5>,\n",
      " <Vault name=yvCurve-EURT 0.4.3>,\n",
      " <Vault name=yvLUSD 0.4.3>,\n",
      " <Vault name=yvCurve-ibBTC 0.4.3>,\n",
      " <Vault name=yvCurve-USDK 0.3.5>]\n"
     ]
    }
   ],
   "source": [
    "pprint(vaults[:10])"
   ]
  },
  {
   "cell_type": "code",
   "execution_count": 4,
   "metadata": {},
   "outputs": [
    {
     "name": "stdout",
     "output_type": "stream",
     "text": [
      "[<Strategy name=CurvecrvRenWBTCVoterProxy>, <Strategy name=ConvexcrvRenWBTC>]\n"
     ]
    }
   ],
   "source": [
    "pprint(vaults[0].strategies)"
   ]
  },
  {
   "cell_type": "code",
   "execution_count": 5,
   "metadata": {},
   "outputs": [
    {
     "name": "stdout",
     "output_type": "stream",
     "text": [
      "[<Strategy name=CurvesaCRVVoterProxy>,\n",
      " <Strategy name=StrategyGenericLevCompFarmWeth>,\n",
      " <Strategy name=StrategyLenderYieldOptimiser>,\n",
      " <Strategy name=StrategyLenderYieldOptimiser>,\n",
      " <Strategy name=Convexusdp3CRV>,\n",
      " <Strategy name=CurvecrvPlain3andSUSDVoterProxy>,\n",
      " <Strategy name=yvWBTCStratMMV1>,\n",
      " <Strategy name=StrategyGenLevAAVE-Flashmint>,\n",
      " <Strategy name=StrategyAH2EarniUSDT>,\n",
      " <Strategy name=Convexusdk3CRV>]\n"
     ]
    }
   ],
   "source": [
    "pprint(yearn.strategies[:10])"
   ]
  },
  {
   "cell_type": "code",
   "execution_count": 6,
   "metadata": {},
   "outputs": [
    {
     "name": "stdout",
     "output_type": "stream",
     "text": [
      "StrategyInfo(riskScores=StrategyRisk(auditScore=2, codeReviewScore=4, complexityScore=2, protocolSafetyScore=1, teamKnowledgeScore=1, testingScore=3, TVLImpact=0, longevityImpact=1), protocols=[{'Name': 'Aave', 'DeFiSafetyScores': DeFiSafetyScores(overallScore=95.0, contractsAndTeamScore=100.0, documentationScore=95.0, testingScore=98.5, securityScore=95.5, adminControlsScore=86.0, oraclesScore=None)}, {'Name': 'Curve.fi', 'DeFiSafetyScores': DeFiSafetyScores(overallScore=93.0, contractsAndTeamScore=100.0, documentationScore=94.0, testingScore=72.0, securityScore=95.0, adminControlsScore=97.0, oraclesScore=100.0)}, {'Name': 'Maker', 'DeFiSafetyScores': DeFiSafetyScores(overallScore=81.0, contractsAndTeamScore=68.0, documentationScore=84.0, testingScore=75.0, securityScore=96.0, adminControlsScore=71.0, oraclesScore=None)}], tokens=['saCRV', 'yvCurve-sAave', 'DAI', 'CRV'])\n"
     ]
    }
   ],
   "source": [
    "\"\"\"describe a given strategy\"\"\"\n",
    "info = yearn.describe(yearn.strategies[0])\n",
    "pprint(info)"
   ]
  },
  {
   "cell_type": "code",
   "execution_count": 7,
   "metadata": {},
   "outputs": [
    {
     "name": "stdout",
     "output_type": "stream",
     "text": [
      "VaultInfo(riskScores=VaultRisk(auditScore=5.0, codeReviewScore=2.0, complexityScore=2.0, protocolSafetyScore=2.0, teamKnowledgeScore=1.0, testingScore=3.0), protocols=[{'Name': 'Curve.fi', 'TVL Ratio': 1.0, 'DeFiSafetyScores': DeFiSafetyScores(overallScore=93.0, contractsAndTeamScore=100.0, documentationScore=94.0, testingScore=72.0, securityScore=95.0, adminControlsScore=97.0, oraclesScore=100.0)}], tokens=[{'Name': 'yvCurve-renBTC', 'TVL Ratio': 1.0}, {'Name': 'crvRenWBTC', 'TVL Ratio': 1.0}, {'Name': 'WBTC', 'TVL Ratio': 1.0}, {'Name': 'CRV', 'TVL Ratio': 1.0}, {'Name': 'CVX', 'TVL Ratio': 1.0}], top_wallets={'0x92Be6ADB6a12Da0CA607F9d87DB2F9978cD6ec3E': 0.4245619251799065, '0x1c96fE3bd7ae5d1145F9aCe3063c2CcB12a56b9E': 0.2930467462046715, '0xbFfbacd99B3B52e698B9C17E03fAf89fCef475e9': 0.19201825352808732, '0x910eBA0bCe65C9a7B8e0D9F1e008dFc137301b99': 0.04022743189105712, '0x42D4e90Ff4068Abe7BC4EaB838c7dE1D2F5998A3': 0.0283283314446311, '0x24f8B34b3A381cc72576a35d55A6996c9bF2C4CB': 0.008308352163016801, '0x7047F90229a057C13BF847C0744D646CFb6c9E1A': 0.005716990238722041, '0xD291328a6c202c5B18dCB24f279f69dE1E065f70': 0.003180907995972539, '0x03f177Bd98f6bb3afbABBC9Ea24eac24135E7ecB': 0.0016088429957637912, '0x9cbBCD3B4129B1c00F0cd851BAf118ebb0c4F168': 0.0014229944879650292})\n"
     ]
    }
   ],
   "source": [
    "\"\"\"describe a given vault\"\"\"\n",
    "info = yearn.describe(yearn.vaults[0])\n",
    "pprint(info)"
   ]
  }
 ],
 "metadata": {
  "interpreter": {
   "hash": "125ce61a32026170848d6da81e9b010e731f052604f6e9c487b90ea100608dd9"
  },
  "kernelspec": {
   "display_name": "Python 3.9.12 ('yearn-data')",
   "language": "python",
   "name": "python3"
  },
  "language_info": {
   "codemirror_mode": {
    "name": "ipython",
    "version": 3
   },
   "file_extension": ".py",
   "mimetype": "text/x-python",
   "name": "python",
   "nbconvert_exporter": "python",
   "pygments_lexer": "ipython3",
   "version": "3.9.12"
  },
  "orig_nbformat": 4
 },
 "nbformat": 4,
 "nbformat_minor": 2
}
