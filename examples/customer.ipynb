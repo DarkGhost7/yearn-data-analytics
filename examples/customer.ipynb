{
 "cells": [
  {
   "cell_type": "markdown",
   "metadata": {},
   "source": [
    "# Customer Insights\n",
    "\n",
    "*Work in Progress*"
   ]
  },
  {
   "cell_type": "markdown",
   "metadata": {},
   "source": [
    "This notebook aims to provide a brief demonstration of how this codebase could be used for gaining customer insights."
   ]
  },
  {
   "cell_type": "code",
   "execution_count": 1,
   "metadata": {},
   "outputs": [],
   "source": [
    "\"\"\"load dependencies and define constants\"\"\"\n",
    "import os\n",
    "import sys\n",
    "import requests\n",
    "import numpy as np\n",
    "import pandas as pd\n",
    "from decimal import Decimal\n",
    "from web3 import Web3\n",
    "from tqdm.notebook import tqdm\n",
    "import matplotlib.pyplot as plt\n",
    "import seaborn as sns\n",
    "from dotenv import load_dotenv\n",
    "\n",
    "sys.path.append(\"..\")\n",
    "from src.utils.network import client, parse_json\n",
    "from yearn_data.yearn import Yearn\n",
    "from yearn_data.utils.web3 import fetch_events, get_contract\n",
    "from yearn_data.utils.price import get_usdc_price\n",
    "\n",
    "# constants\n",
    "ZERO_ADDRESS = '0x0000000000000000000000000000000000000000'\n",
    "FROM_BLOCK = 13900000  # Dec-29-2021\n",
    "BATCH_SIZE = 500000\n",
    "API_ENDPOINT = \"https://api.etherscan.io/api\""
   ]
  },
  {
   "cell_type": "code",
   "execution_count": 2,
   "metadata": {},
   "outputs": [
    {
     "name": "stdout",
     "output_type": "stream",
     "text": [
      "current block number: 14682538\n",
      "loaded metadata for 92 vaults (v2)\n"
     ]
    }
   ],
   "source": [
    "\"\"\"get current block and load vaults from the yearn instance\"\"\"\n",
    "load_dotenv()\n",
    "w3 = Web3(Web3.HTTPProvider(os.environ['WEB3_PROVIDER']))\n",
    "current_block = w3.eth.get_block(\"latest\")[\"number\"]\n",
    "print(f\"current block number: {current_block}\")\n",
    "\n",
    "yearn = Yearn()\n",
    "vaults = yearn.vaults\n",
    "print(f\"loaded metadata for {len(vaults)} vaults (v2)\")"
   ]
  },
  {
   "cell_type": "code",
   "execution_count": 3,
   "metadata": {},
   "outputs": [
    {
     "data": {
      "application/vnd.jupyter.widget-view+json": {
       "model_id": "b9a46c0c560044fb8b4648ba7870425c",
       "version_major": 2,
       "version_minor": 0
      },
      "text/plain": [
       "  0%|          | 0/92 [00:00<?, ?it/s]"
      ]
     },
     "metadata": {},
     "output_type": "display_data"
    },
    {
     "name": "stdout",
     "output_type": "stream",
     "text": [
      "                                            approx. USDC value\n",
      "address                                                       \n",
      "0xd6b88257e91e4E4D4E990B3A858c849EF2DFdE8c        4.320239e+08\n",
      "0x6d75657771256C7a8CB4d475fDf5047B70160132        2.119898e+08\n",
      "0x6Fe02BE0EC79dCF582cBDB936D7037d2eB17F661        2.056419e+08\n",
      "0xb039eA6153c827e59b620bDCd974F7bbFe68214A        1.275850e+08\n",
      "0xb698f815918e0A11cf802184f36f02cD4602EBD4        5.857186e+07\n",
      "0x546E6711032Ec744A7708D4b7b283A210a85B3BC        5.195486e+07\n",
      "0xE8E8f41Ed29E46f34E206D7D2a7D6f735A3FF2CB        1.699023e+07\n",
      "0x4b92d19c11435614CD49Af1b589001b7c08cD4D5        1.506286e+07\n",
      "0x3a8C4eaB850D2265Cb0d6bBB442Ae08a4dd380c9        1.334229e+07\n",
      "0xbC27C4873D0ddE214387cE5a838DC78857633Ea2        1.323721e+07\n"
     ]
    }
   ],
   "source": [
    "\"\"\"get addresses that withdrew from vaults\"\"\"\n",
    "def get_withdrawals(data, vault, from_block, to_block):\n",
    "    events = fetch_events(vault.address, \"Transfer\", from_block, to_block)\n",
    "    withdraws = [event for event in events if event['args']['receiver'] == ZERO_ADDRESS]  # burn vault tokens\n",
    "    for withdraw in withdraws:\n",
    "        account = withdraw['args']['sender']\n",
    "        shares = Decimal(withdraw['args']['value'] / 10**vault.token.decimals)\n",
    "        usdc_amount = shares * share_price\n",
    "        if account in data:\n",
    "            data[account] += usdc_amount\n",
    "        else:\n",
    "            data[account] = usdc_amount\n",
    "\n",
    "data = {}\n",
    "for vault in tqdm(vaults):\n",
    "    # approximate the share price by the current usdc value, skip if not available\n",
    "    try:\n",
    "        share_price = get_usdc_price(vault.token.address)\n",
    "    except:\n",
    "        continue\n",
    "\n",
    "    from_block = FROM_BLOCK\n",
    "    to_block = from_block + BATCH_SIZE\n",
    "    while to_block < current_block:\n",
    "        get_withdrawals(data, vault, from_block, to_block)\n",
    "        from_block += BATCH_SIZE\n",
    "        to_block = from_block + BATCH_SIZE\n",
    "    get_withdrawals(data, vault, from_block, \"latest\")\n",
    "\n",
    "df = pd.DataFrame(data.items(), columns=[\"address\", \"approx. USDC value\"])\n",
    "df['approx. USDC value'] = pd.to_numeric(df['approx. USDC value'])\n",
    "df.set_index(keys=['address'], inplace=True)\n",
    "df.sort_values('approx. USDC value', inplace=True, ascending=False)\n",
    "print(df.head(10))"
   ]
  },
  {
   "cell_type": "code",
   "execution_count": 4,
   "metadata": {},
   "outputs": [
    {
     "data": {
      "text/plain": [
       "<AxesSubplot:xlabel='address', ylabel='USDC log-value'>"
      ]
     },
     "execution_count": 4,
     "metadata": {},
     "output_type": "execute_result"
    },
    {
     "data": {
      "image/png": "[encoded data removed]",
      "text/plain": [
       "<Figure size 576x432 with 1 Axes>"
      ]
     },
     "metadata": {},
     "output_type": "display_data"
    }
   ],
   "source": [
    "\"\"\"the log-value distribution of the top 100 addresses\"\"\"\n",
    "sns.set_style('whitegrid')\n",
    "_, ax = plt.subplots(figsize=(8, 6))\n",
    "ax.set_xticks([])\n",
    "ax.set_ylabel(\"USDC log-value\")\n",
    "np.log(df['approx. USDC value'].iloc[:100]).plot(ax=ax)"
   ]
  },
  {
   "cell_type": "code",
   "execution_count": 5,
   "metadata": {},
   "outputs": [
    {
     "data": {
      "application/vnd.jupyter.widget-view+json": {
       "model_id": "2323ee48895149bd94e329f4efdea114",
       "version_major": 2,
       "version_minor": 0
      },
      "text/plain": [
       "  0%|          | 0/100 [00:00<?, ?it/s]"
      ]
     },
     "metadata": {},
     "output_type": "display_data"
    },
    {
     "name": "stdout",
     "output_type": "stream",
     "text": [
      "Fetched 1509 addresses from chain\n"
     ]
    }
   ],
   "source": [
    "\"\"\"get the caller of the contracts for the top 100 addresses\"\"\"\n",
    "def get_callers(data, contract, from_block, to_block):\n",
    "    for event in contract.events:\n",
    "        events = fetch_events(contract.address, event.event_name, from_block, to_block)\n",
    "        for event in events:\n",
    "            for v in event['args'].__dict__.values():\n",
    "                for vault in vaults:\n",
    "                    if v == vault.address:\n",
    "                        data.append(event.args.sender)\n",
    "                        break\n",
    "\n",
    "data = []\n",
    "for idx, address in enumerate(tqdm(df.index[:100])):\n",
    "    # try to fetch the contract abi, skip if not available\n",
    "    try:\n",
    "        contract = get_contract(address)\n",
    "\n",
    "        from_block = FROM_BLOCK\n",
    "        to_block = from_block + BATCH_SIZE\n",
    "        while to_block < current_block:\n",
    "            get_callers(data, contract, from_block, to_block)\n",
    "            from_block += BATCH_SIZE\n",
    "            to_block = from_block + BATCH_SIZE\n",
    "        get_callers(data, contract, from_block, \"latest\")\n",
    "\n",
    "    except:\n",
    "        data.append(address)\n",
    "print(f\"Fetched {len(data)} addresses from chain\")"
   ]
  },
  {
   "cell_type": "code",
   "execution_count": 6,
   "metadata": {},
   "outputs": [
    {
     "data": {
      "application/vnd.jupyter.widget-view+json": {
       "model_id": "8c976401b1ee497ca0e5a1ca7f2db119",
       "version_major": 2,
       "version_minor": 0
      },
      "text/plain": [
       "  0%|          | 0/1509 [00:00<?, ?it/s]"
      ]
     },
     "metadata": {},
     "output_type": "display_data"
    },
    {
     "name": "stdout",
     "output_type": "stream",
     "text": [
      "                                      address  counts\n",
      "0  0x68b3465833fb72a70ecdf485e0e4c7bd8665fc45    5948\n",
      "1  0x1111111254fb6c44bac0bed2854e76f90643097d    5529\n",
      "2  0xdef1c0ded9bec7f1a1670819833240f027b25eff    4962\n",
      "3  0xa0b86991c6218b36c1d19d4a2e9eb0ce3606eb48    4583\n",
      "4  0xc02aaa39b223fe8d0a0e5c4f27ead9083c756cc2    4528\n",
      "5  0xd9e1ce17f2641f24ae83637ab66a2cca9c378b9f    4434\n",
      "6  0x7f268357a8c2552623316e2562d90e642bb538e5    3831\n",
      "7  0x7be8076f4ea4a4ad08075c2508e481d6c946d12b    3810\n",
      "8  0xd6b88257e91e4e4d4e990b3a858c849ef2dfde8c    2909\n",
      "9  0x920d9bd936da4eafb5e25c6bdc9f6cb528953f9f    1920\n"
     ]
    }
   ],
   "source": [
    "\"\"\"get the transaction receivers from etherscan and sort by count\"\"\"\n",
    "params = {\n",
    "    'module': 'account',\n",
    "    'action': 'txlist',\n",
    "    'startblock': FROM_BLOCK,\n",
    "    'endblock': 99999999,\n",
    "    'apiKey': os.environ['ETHERSCAN_TOKEN']\n",
    "}\n",
    "addresses = []\n",
    "for caller in tqdm(data):\n",
    "    params['address'] = caller\n",
    "    response = client('get', API_ENDPOINT, params=params)\n",
    "    jsoned = parse_json(response)\n",
    "    if jsoned is None:\n",
    "        continue\n",
    "\n",
    "    txns = jsoned['result']\n",
    "    for tx in txns:\n",
    "        if tx['from'] == caller.lower():\n",
    "            addresses.append(tx['to'])\n",
    "\n",
    "addresses, counts = np.unique(addresses, return_counts=True)\n",
    "df = pd.DataFrame(np.asarray([addresses, counts]).T, columns=['address', 'counts'])\n",
    "df.counts = pd.to_numeric(df.counts)\n",
    "df.sort_values('counts', inplace=True, ascending=False)\n",
    "df.index = np.arange(len(addresses))\n",
    "print(df.head(10))"
   ]
  }
 ],
 "metadata": {
  "interpreter": {
   "hash": "125ce61a32026170848d6da81e9b010e731f052604f6e9c487b90ea100608dd9"
  },
  "kernelspec": {
   "display_name": "Python 3.9.12 ('yearn-data')",
   "language": "python",
   "name": "python3"
  },
  "language_info": {
   "codemirror_mode": {
    "name": "ipython",
    "version": 3
   },
   "file_extension": ".py",
   "mimetype": "text/x-python",
   "name": "python",
   "nbconvert_exporter": "python",
   "pygments_lexer": "ipython3",
   "version": "3.9.12"
  },
  "orig_nbformat": 4
 },
 "nbformat": 4,
 "nbformat_minor": 2
}
