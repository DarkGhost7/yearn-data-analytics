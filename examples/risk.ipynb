{
 "cells": [
  {
   "cell_type": "markdown",
   "metadata": {},
   "source": [
    "# Risk Metrics\n",
    "\n",
    "*Work in Progress*"
   ]
  },
  {
   "cell_type": "markdown",
   "metadata": {},
   "source": [
    "This notebook aims to provide basic usage examples for describing the quantitative risk metrics of Yearn's products and some additional relevant information."
   ]
  },
  {
   "cell_type": "code",
   "execution_count": 1,
   "metadata": {},
   "outputs": [],
   "source": [
    "\"\"\"load dependencies and define constants\"\"\"\n",
    "import sys\n",
    "from pprint import pprint\n",
    "\n",
    "sys.path.append(\"..\")\n",
    "from yearn_data.yearn import Yearn"
   ]
  },
  {
   "cell_type": "code",
   "execution_count": 2,
   "metadata": {},
   "outputs": [
    {
     "name": "stdout",
     "output_type": "stream",
     "text": [
      "loaded metadata for 93 vaults (v2)\n"
     ]
    }
   ],
   "source": [
    "\"\"\"load v2 vaults from the yearn instance\"\"\"\n",
    "yearn = Yearn()\n",
    "vaults = yearn.vaults\n",
    "print(f\"loaded metadata for {len(vaults)} vaults (v2)\")"
   ]
  },
  {
   "cell_type": "code",
   "execution_count": 3,
   "metadata": {},
   "outputs": [
    {
     "name": "stdout",
     "output_type": "stream",
     "text": [
      "[<Vault name=yvCurve-3EUR 0.4.3>,\n",
      " <Vault name=yvCurve-yBUSD 0.3.5>,\n",
      " <Vault name=yvUSDC 0.3.0>,\n",
      " <Vault name=yvCurve-HBTC 0.3.3>,\n",
      " <Vault name=yvCurve-DUSD 0.3.5>,\n",
      " <Vault name=yvDAI 0.3.0>,\n",
      " <Vault name=yvCurve-LINK 0.3.5>,\n",
      " <Vault name=yvCurve-RAI 0.4.3>,\n",
      " <Vault name=yvLUSD 0.4.3>,\n",
      " <Vault name=yvCurve-sUSD 0.3.5>]\n"
     ]
    }
   ],
   "source": [
    "pprint(vaults[:10])"
   ]
  },
  {
   "cell_type": "code",
   "execution_count": 4,
   "metadata": {},
   "outputs": [
    {
     "name": "stdout",
     "output_type": "stream",
     "text": [
      "[<Strategy name=StrategyConvex3EUR>]\n"
     ]
    }
   ],
   "source": [
    "pprint(vaults[0].strategies)"
   ]
  },
  {
   "cell_type": "code",
   "execution_count": 5,
   "metadata": {},
   "outputs": [
    {
     "name": "stdout",
     "output_type": "stream",
     "text": [
      "[<Strategy name=StrategyConvexcvxCRV>,\n",
      " <Strategy name=StrategyCurvecvxCRV>,\n",
      " <Strategy name=ssc_dai_frax>,\n",
      " <Strategy name=StrategyAH2EarniUSDC>,\n",
      " <Strategy name=StrategyConvexsETH>,\n",
      " <Strategy name=CurvecDAI+cUSDCVoterProxy>,\n",
      " <Strategy name=Convex3Crv>,\n",
      " <Strategy name=StrategyConvexalUSD>,\n",
      " <Strategy name=StrategyUniverseStaking>,\n",
      " <Strategy name=StrategyLeagueDAOStakingSUSHI>]\n"
     ]
    }
   ],
   "source": [
    "pprint(yearn.strategies[:10])"
   ]
  },
  {
   "cell_type": "code",
   "execution_count": 6,
   "metadata": {},
   "outputs": [
    {
     "name": "stdout",
     "output_type": "stream",
     "text": [
      "StrategyInfo(riskScores=StrategyRisk(auditScore=5, codeReviewScore=2, complexityScore=2, protocolSafetyScore=2, teamKnowledgeScore=1, testingScore=3, TVLImpact=1, longevityImpact=2), protocols=[{'Name': 'Curve.fi', 'DeFiSafetyScores': DeFiSafetyScores(overallScore=63.5, contractsAndTeamScore=80.5, documentationScore=58.0, testingScore=None, securityScore=69.5, adminControlsScore=67.0, oraclesScore=None)}], tokens=['yvCurve-cvxCRV', 'cvxcrv-f', 'CRV', 'CVX'])\n"
     ]
    }
   ],
   "source": [
    "\"\"\"describe a given strategy\"\"\"\n",
    "info = yearn.describe(yearn.strategies[0])\n",
    "pprint(info)"
   ]
  }
 ],
 "metadata": {
  "interpreter": {
   "hash": "125ce61a32026170848d6da81e9b010e731f052604f6e9c487b90ea100608dd9"
  },
  "kernelspec": {
   "display_name": "Python 3.9.12 ('yearn-data')",
   "language": "python",
   "name": "python3"
  },
  "language_info": {
   "codemirror_mode": {
    "name": "ipython",
    "version": 3
   },
   "file_extension": ".py",
   "mimetype": "text/x-python",
   "name": "python",
   "nbconvert_exporter": "python",
   "pygments_lexer": "ipython3",
   "version": "3.9.12"
  },
  "orig_nbformat": 4
 },
 "nbformat": 4,
 "nbformat_minor": 2
}
